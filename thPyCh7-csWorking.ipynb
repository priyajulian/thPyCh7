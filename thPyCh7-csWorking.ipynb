{
 "cells": [
  {
   "cell_type": "markdown",
   "metadata": {},
   "source": [
    "Chapter 7  Iteration\n",
    "\n",
    "This chapter is about iteration, which is the ability to run a block of statements repeatedly. We saw a kind of iteration, using recursion, in Section 5.8. We saw another kind, using a for loop, in Section 4.2. In this chapter we’ll see yet another kind, using a while statement. But first I want to say a little more about variable assignment.\n",
    "7.1  Reassignment\n",
    "\n",
    "As you may have discovered, it is legal to make more than one assignment to the same variable. A new assignment makes an existing variable refer to a new value (and stop referring to the old value).\n",
    "\n",
    "\n",
    " "
   ]
  },
  {
   "cell_type": "code",
   "execution_count": 1,
   "metadata": {},
   "outputs": [
    {
     "data": {
      "text/plain": [
       "5"
      ]
     },
     "execution_count": 1,
     "metadata": {},
     "output_type": "execute_result"
    }
   ],
   "source": [
    "x = 5  \n",
    "x"
   ]
  },
  {
   "cell_type": "code",
   "execution_count": 2,
   "metadata": {},
   "outputs": [
    {
     "data": {
      "text/plain": [
       "7"
      ]
     },
     "execution_count": 2,
     "metadata": {},
     "output_type": "execute_result"
    }
   ],
   "source": [
    "x = 7  \n",
    "x     "
   ]
  },
  {
   "cell_type": "markdown",
   "metadata": {},
   "source": [
    "The first time we display x, its value is 5; the second time, its value is 7.\n",
    "Figure 7.1 shows what reassignment looks like in a state diagram.\n",
    "\n",
    "At this point I want to address a common source of confusion. Because Python uses the equal sign (=) for assignment, it is tempting to interpret a statement like a = b as a mathematical proposition of equality; that is, the claim that a and b are equal. But this interpretation is wrong.\n",
    "\n",
    "First, equality is a symmetric relationship and assignment is not. For example, in mathematics, if a=7 then 7=a. But in Python, the statement a = 7 is legal and 7 = a is not.\n",
    "\n",
    "Also, in mathematics, a proposition of equality is either true or false for all time. If a=b now, then a will always equal b. In Python, an assignment statement can make two variables equal, but they don’t have to stay that way:\n"
   ]
  },
  {
   "cell_type": "code",
   "execution_count": 1,
   "metadata": {},
   "outputs": [
    {
     "data": {
      "text/plain": [
       "5"
      ]
     },
     "execution_count": 1,
     "metadata": {},
     "output_type": "execute_result"
    }
   ],
   "source": [
    " a = 5\n",
    " b = a    # a and b are now equal\n",
    " a = 3    # a and b are no longer equal\n",
    " b"
   ]
  },
  {
   "cell_type": "markdown",
   "metadata": {},
   "source": [
    "The third line changes the value of a but does not change the value of b, so they are no longer equal.\n",
    "Reassigning variables is often useful, but you should use it with caution. If the values of variables change frequently, it can make the code difficult to read and debug."
   ]
  },
  {
   "cell_type": "markdown",
   "metadata": {},
   "source": [
    "A common kind of reassignment is an update, where the new value of the variable depends on the old."
   ]
  },
  {
   "cell_type": "code",
   "execution_count": 4,
   "metadata": {},
   "outputs": [],
   "source": [
    "x = x + 1\n",
    "x += 1"
   ]
  },
  {
   "cell_type": "markdown",
   "metadata": {},
   "source": [
    "This means “get the current value of x, add one, and then update x with the new value.”"
   ]
  },
  {
   "cell_type": "markdown",
   "metadata": {},
   "source": [
    "If you try to update a variable that doesn’t exist, you get an error, because Python evaluates the right side before it assigns a value to x:"
   ]
  },
  {
   "cell_type": "code",
   "execution_count": 3,
   "metadata": {},
   "outputs": [
    {
     "ename": "NameError",
     "evalue": "name 'y' is not defined",
     "output_type": "error",
     "traceback": [
      "\u001b[0;31m---------------------------------------------------------------------------\u001b[0m",
      "\u001b[0;31mNameError\u001b[0m                                 Traceback (most recent call last)",
      "\u001b[0;32m<ipython-input-3-1568832f093d>\u001b[0m in \u001b[0;36m<module>\u001b[0;34m\u001b[0m\n\u001b[0;32m----> 1\u001b[0;31m \u001b[0my\u001b[0m \u001b[0;34m=\u001b[0m \u001b[0my\u001b[0m\u001b[0;34m+\u001b[0m\u001b[0;36m1\u001b[0m\u001b[0;34m\u001b[0m\u001b[0;34m\u001b[0m\u001b[0m\n\u001b[0m",
      "\u001b[0;31mNameError\u001b[0m: name 'y' is not defined"
     ]
    }
   ],
   "source": [
    "y = y+1"
   ]
  },
  {
   "cell_type": "markdown",
   "metadata": {},
   "source": [
    "Before you can update a variable, you have to initialize it, usually with a simple assignment:\n"
   ]
  },
  {
   "cell_type": "code",
   "execution_count": 5,
   "metadata": {},
   "outputs": [
    {
     "data": {
      "text/plain": [
       "2"
      ]
     },
     "execution_count": 5,
     "metadata": {},
     "output_type": "execute_result"
    }
   ],
   "source": [
    "y = 0\n",
    "y= y+1\n",
    "y += 1 #you can also subract, divide, multiply, and change from 1 to a different value\n",
    "y"
   ]
  },
  {
   "cell_type": "markdown",
   "metadata": {},
   "source": [
    "Updating a variable by adding 1 is called an increment; subtracting 1 is called a decrement."
   ]
  },
  {
   "cell_type": "markdown",
   "metadata": {},
   "source": [
    "# The while statement\n",
    "\n",
    "Computers are often used to automate repetitive tasks. Repeating identical or similar tasks without making errors is something that computers do well and people do poorly. In a computer program, repetition is also called iteration.\n",
    "\n",
    "We have already seen two functions, countdown and print_n, that iterate using recursion. Because iteration is so common, Python provides language features to make it easier. One is the for statement we saw in Section 4.2. We’ll get back to that later.  \n",
    "\n",
    "Another is the while statement. Here is a version of countdown that uses a while statement:"
   ]
  },
  {
   "cell_type": "code",
   "execution_count": 11,
   "metadata": {},
   "outputs": [
    {
     "name": "stdout",
     "output_type": "stream",
     "text": [
      "3\n",
      "2\n",
      "1\n",
      "Blastoff!\n"
     ]
    }
   ],
   "source": [
    "def countdown(n):\n",
    "    while n > 0:\n",
    "        print(n)\n",
    "        n = n - 1\n",
    "    print('Blastoff!')\n",
    "countdown(3**1)"
   ]
  },
  {
   "cell_type": "markdown",
   "metadata": {},
   "source": [
    "More formally, here is the flow of execution for a while statement:\n",
    "\n",
    "Determine whether the condition is true or false.\n",
    "If false, exit the while statement and continue execution at the next statement.\n",
    "If the condition is true, run the body and then go back to step 1.  \n",
    "\n",
    "Beware infinite loops!  It can sometimes be difficult to see if a loop will exit or not just by reading it.  "
   ]
  },
  {
   "cell_type": "code",
   "execution_count": null,
   "metadata": {},
   "outputs": [],
   "source": [
    "while(True):\n",
    "    pass #pass tells python to do nothing\n",
    "#the * means that the cell is running... it is basically doing nothing forever - press stop or something to stop this"
   ]
  },
  {
   "cell_type": "markdown",
   "metadata": {},
   "source": [
    "# Break\n",
    "Sometimes you don’t know it’s time to end a loop until you get half way through the body. In that case you can use the break statement to jump out of the loop.\n",
    "\n",
    "For example, suppose you want to take input from the user until they type done. You could write:"
   ]
  },
  {
   "cell_type": "code",
   "execution_count": 13,
   "metadata": {},
   "outputs": [
    {
     "name": "stdout",
     "output_type": "stream",
     "text": [
      "> hello\n",
      "hello\n",
      "> done\n",
      "Done!\n"
     ]
    }
   ],
   "source": [
    "while True:\n",
    "    line = input('> ')\n",
    "    if line == 'done':\n",
    "        break \n",
    "    print(line)\n",
    "\n",
    "print('Done!')"
   ]
  },
  {
   "cell_type": "markdown",
   "metadata": {},
   "source": [
    "This way of writing while loops is common because you can check the condition anywhere in the loop (not just at the top) and you can express the stop condition affirmatively (“stop when this happens”) rather than negatively (“keep going until that happens”)."
   ]
  },
  {
   "cell_type": "markdown",
   "metadata": {},
   "source": [
    "# Continue\n",
    "Another flow control command is continue.  Continue will immediately skip the rest of the indented block, return to the top of the while loop and check the condition again. "
   ]
  },
  {
   "cell_type": "code",
   "execution_count": 4,
   "metadata": {},
   "outputs": [],
   "source": [
    "keep_going = True\n",
    "\n",
    "while(keep_going):\n",
    "    keep_going = False\n",
    "    continue\n",
    "    while(True):\n",
    "        pass #this portion would be an infinite loop...but\n",
    "        #thankfully it never gets there because of continue"
   ]
  },
  {
   "cell_type": "markdown",
   "metadata": {},
   "source": [
    "# 7.5 Square roots  \n",
    "Loops are often used in programs that compute numerical results by starting with an approximate answer and iteratively improving it.\n",
    "\n",
    "For example, one way of computing square roots is Newton’s method. Suppose that you want to know the square root of a. If you start with almost any estimate, x, you can compute a better estimate with the following formula:\n",
    "\n",
    "y = (x + a/x)/2\n",
    " \n",
    "\n"
   ]
  },
  {
   "cell_type": "code",
   "execution_count": 14,
   "metadata": {},
   "outputs": [
    {
     "data": {
      "text/plain": [
       "2.1666666666666665"
      ]
     },
     "execution_count": 14,
     "metadata": {},
     "output_type": "execute_result"
    }
   ],
   "source": [
    "#For example, if a is 4 and x is 3:\n",
    "a = 4\n",
    "x = 3\n",
    "y = (x + a/x) / 2\n",
    "y"
   ]
  },
  {
   "cell_type": "code",
   "execution_count": 21,
   "metadata": {},
   "outputs": [
    {
     "data": {
      "text/plain": [
       "2.0064102564102564"
      ]
     },
     "execution_count": 21,
     "metadata": {},
     "output_type": "execute_result"
    }
   ],
   "source": [
    "#The result is closer to the correct answer (√4 = 2). If we repeat the process \n",
    "#with the new estimate, it gets even closer:\n",
    "x = y\n",
    "y = (x + a/x) / 2\n",
    "y"
   ]
  },
  {
   "cell_type": "code",
   "execution_count": 22,
   "metadata": {},
   "outputs": [
    {
     "data": {
      "text/plain": [
       "2.0000000000262146"
      ]
     },
     "execution_count": 22,
     "metadata": {},
     "output_type": "execute_result"
    }
   ],
   "source": [
    "#After a few more updates, the estimate is almost exact:\n",
    "x = y\n",
    "y = (x + a/x) / 2\n",
    "\n",
    "x = y\n",
    "y = (x + a/x) / 2\n",
    "y"
   ]
  },
  {
   "cell_type": "code",
   "execution_count": 34,
   "metadata": {},
   "outputs": [
    {
     "name": "stdout",
     "output_type": "stream",
     "text": [
      "1\n",
      "1.5\n",
      "1.4166666666666665\n",
      "1.4142156862745097\n",
      "1.4142135623746899\n",
      "1.414213562373095\n"
     ]
    }
   ],
   "source": [
    "#When y == x, we can stop. Here is a loop that starts \n",
    "#with an initial estimate, x,\n",
    "#and improves it until it stops changing:\n",
    "\n",
    "a = 2\n",
    "x = 1\n",
    "epsilon = 10 ** (-16)\n",
    "#old answer for sqrt 2 = 1.414213562373095\n",
    "#new answer for sqrt 2 = 1.414213562373095\n",
    "\n",
    "####This is the loop you'll need in exercise 1###\n",
    "while True:\n",
    "    print(x)\n",
    "    y = (x + a/x) / 2\n",
    "    #if y == x:\n",
    "    if abs(y-x) < epsilon: #epsilon is a very very small number at 10^-16... basically we're just saying good enough\n",
    "        break\n",
    "    x = y"
   ]
  },
  {
   "cell_type": "markdown",
   "metadata": {},
   "source": [
    "For most values of a this works fine, but in general it is dangerous to test float equality. Floating-point values are only approximately right: most rational numbers, like 1/3, and irrational numbers, like √2, can’t be represented exactly with a float.\n",
    "Rather than checking whether x and y are exactly equal, it is safer to use the built-in function abs to compute the absolute value, or magnitude, of the difference between them:\n",
    "\n",
    "    \n",
    "\n"
   ]
  },
  {
   "cell_type": "code",
   "execution_count": null,
   "metadata": {},
   "outputs": [],
   "source": [
    "#replacing if y == x with\n",
    "\n",
    "if abs(y-x) < epsilon:\n",
    "        break\n",
    "#Where epsilon has a value like 0.0000001 that #\n",
    "#determines how close is close enough."
   ]
  },
  {
   "cell_type": "markdown",
   "metadata": {},
   "source": [
    "# 7.6  Algorithms\n",
    "\n",
    "Newton’s method is an example of an algorithm: it is a mechanical process for solving a category of problems (in this case, computing square roots).\n",
    "\n",
    "To understand what an algorithm is, it might help to start with something that is not an algorithm. When you learned to multiply single-digit numbers, you probably memorized the multiplication table. In effect, you memorized 100 specific solutions. That kind of knowledge is not algorithmic.\n",
    "\n",
    "But if you were “lazy”, you might have learned a few tricks. For example, to find the product of n and 9, you can write n−1 as the first digit and 10−n as the second digit. This trick is a general solution for multiplying any single-digit number by 9. That’s an algorithm!\n",
    "\n",
    "Similarly, the techniques you learned for addition with carrying, subtraction with borrowing, and long division are all algorithms. One of the characteristics of algorithms is that they do not require any intelligence to carry out. They are mechanical processes where each step follows from the last according to a simple set of rules.\n",
    "\n",
    "Executing algorithms is boring, but designing them is interesting, intellectually challenging, and a central part of computer science.\n",
    "\n",
    "Some of the things that people do naturally, without difficulty or conscious thought, are the hardest to express algorithmically. Understanding natural language is a good example. We all do it, but so far no one has been able to explain how we do it, at least not in the form of an algorithm.\n"
   ]
  },
  {
   "cell_type": "code",
   "execution_count": 15,
   "metadata": {},
   "outputs": [],
   "source": [
    "# Practice\n",
    "# 1 - prompt a user for a specific input and loop until they give \n",
    "# that input\n",
    "\n",
    "\n",
    "# 2 - define a variable to be some positive integer.  \n",
    "#   then write a loop that continues dividing by 2 if x is even,\n",
    "#   or multiplies by three then adds 1 if x is odd, until x \n",
    "#   reaches 1 or less.  Does this seem like it should finish? \n",
    "#   Does it?\n",
    "\n",
    "\n",
    "\n",
    "# 3 - implement iterative fibonacci / factorial function"
   ]
  },
  {
   "cell_type": "code",
   "execution_count": 18,
   "metadata": {},
   "outputs": [
    {
     "name": "stdout",
     "output_type": "stream",
     "text": [
      "guess a letter!r\n",
      "try again!\n",
      "guess a letter!y\n",
      "try again!\n",
      "guess a letter!l\n",
      "try again!\n",
      "guess a letter!p\n",
      "that is the right letter!\n"
     ]
    }
   ],
   "source": [
    "#practice 1\n",
    "\n",
    "while True:\n",
    "    line = input('guess a letter!')\n",
    "    if line == 'p':\n",
    "        break \n",
    "    print('try again!')\n",
    "\n",
    "print('that is the right letter!')"
   ]
  },
  {
   "cell_type": "code",
   "execution_count": 3,
   "metadata": {},
   "outputs": [
    {
     "name": "stdout",
     "output_type": "stream",
     "text": [
      "73.0\n",
      "220.0\n",
      "110.0\n",
      "55.0\n",
      "166.0\n",
      "83.0\n",
      "250.0\n",
      "125.0\n",
      "376.0\n",
      "188.0\n",
      "94.0\n",
      "47.0\n",
      "142.0\n",
      "71.0\n",
      "214.0\n",
      "107.0\n",
      "322.0\n",
      "161.0\n",
      "484.0\n",
      "242.0\n",
      "121.0\n",
      "364.0\n",
      "182.0\n",
      "91.0\n",
      "274.0\n",
      "137.0\n",
      "412.0\n",
      "206.0\n",
      "103.0\n",
      "310.0\n",
      "155.0\n",
      "466.0\n",
      "233.0\n",
      "700.0\n",
      "350.0\n",
      "175.0\n",
      "526.0\n",
      "263.0\n",
      "790.0\n",
      "395.0\n",
      "1186.0\n",
      "593.0\n",
      "1780.0\n",
      "890.0\n",
      "445.0\n",
      "1336.0\n",
      "668.0\n",
      "334.0\n",
      "167.0\n",
      "502.0\n",
      "251.0\n",
      "754.0\n",
      "377.0\n",
      "1132.0\n",
      "566.0\n",
      "283.0\n",
      "850.0\n",
      "425.0\n",
      "1276.0\n",
      "638.0\n",
      "319.0\n",
      "958.0\n",
      "479.0\n",
      "1438.0\n",
      "719.0\n",
      "2158.0\n",
      "1079.0\n",
      "3238.0\n",
      "1619.0\n",
      "4858.0\n",
      "2429.0\n",
      "7288.0\n",
      "3644.0\n",
      "1822.0\n",
      "911.0\n",
      "2734.0\n",
      "1367.0\n",
      "4102.0\n",
      "2051.0\n",
      "6154.0\n",
      "3077.0\n",
      "9232.0\n",
      "4616.0\n",
      "2308.0\n",
      "1154.0\n",
      "577.0\n",
      "1732.0\n",
      "866.0\n",
      "433.0\n",
      "1300.0\n",
      "650.0\n",
      "325.0\n",
      "976.0\n",
      "488.0\n",
      "244.0\n",
      "122.0\n",
      "61.0\n",
      "184.0\n",
      "92.0\n",
      "46.0\n",
      "23.0\n",
      "70.0\n",
      "35.0\n",
      "106.0\n",
      "53.0\n",
      "160.0\n",
      "80.0\n",
      "40.0\n",
      "20.0\n",
      "10.0\n",
      "5.0\n",
      "16.0\n",
      "8.0\n",
      "4.0\n",
      "2.0\n",
      "1.0\n"
     ]
    }
   ],
   "source": [
    "#practice 2\n",
    "\n",
    "n=146\n",
    "while(n > 1):\n",
    "    if n%2 == 0:\n",
    "        n = n/2\n",
    "    else:\n",
    "        n = n *3 +1\n",
    "    print(n)\n"
   ]
  },
  {
   "cell_type": "code",
   "execution_count": 11,
   "metadata": {},
   "outputs": [
    {
     "data": {
      "text/plain": [
       "8"
      ]
     },
     "execution_count": 11,
     "metadata": {},
     "output_type": "execute_result"
    }
   ],
   "source": [
    "#practice 3\n",
    "\n",
    "#this is iterative fibonacci\n",
    "\n",
    "def fibonacci(n):\n",
    "    if n == 0 or n == 1:\n",
    "        return(n)\n",
    "    else:\n",
    "        a = 0\n",
    "        b = 1\n",
    "        count = 2\n",
    "        while count <= n:\n",
    "            a,b = b, a+b\n",
    "            count = count + 1\n",
    "        return(b)\n",
    "fibonacci(6)"
   ]
  },
  {
   "cell_type": "markdown",
   "metadata": {},
   "source": [
    "# Exercises"
   ]
  },
  {
   "cell_type": "raw",
   "metadata": {},
   "source": [
    "Exercise 1  \n",
    "Copy the loop from Section 7.5 and encapsulate it in a function called mysqrt that takes a as a parameter, chooses a reasonable value of x, and returns an estimate of the square root of a.\n",
    "To test it, write a function named test_square_root that prints a table like this:\n",
    "\n",
    "a   mysqrt(a)     math.sqrt(a)  diff\n",
    "-   ---------     ------------  ----\n",
    "1.0 1.0           1.0           0.0\n",
    "2.0 1.41421356237 1.41421356237 2.22044604925e-16\n",
    "3.0 1.73205080757 1.73205080757 0.0\n",
    "4.0 2.0           2.0           0.0\n",
    "5.0 2.2360679775  2.2360679775  0.0\n",
    "6.0 2.44948974278 2.44948974278 0.0\n",
    "7.0 2.64575131106 2.64575131106 0.0\n",
    "8.0 2.82842712475 2.82842712475 4.4408920985e-16\n",
    "9.0 3.0           3.0           0.\n",
    "\n",
    "The first column is a number, a; the second column is the square root of a computed with mysqrt; the third column is the square root computed by math.sqrt; the fourth column is the absolute value of the difference between the two estimates."
   ]
  },
  {
   "cell_type": "code",
   "execution_count": 14,
   "metadata": {},
   "outputs": [
    {
     "name": "stdout",
     "output_type": "stream",
     "text": [
      "1 1.0 1.0 0.0\n",
      "2 1.414213562373095 1.4142135623730951 2.220446049250313e-16\n",
      "3 1.7320508075688772 1.7320508075688772 0.0\n",
      "4 2.0 2.0 0.0\n",
      "5 2.23606797749979 2.23606797749979 0.0\n",
      "6 2.449489742783178 2.449489742783178 0.0\n",
      "7 2.6457513110645907 2.6457513110645907 0.0\n",
      "8 2.82842712474619 2.8284271247461903 4.440892098500626e-16\n",
      "9 3.0 3.0 0.0\n"
     ]
    }
   ],
   "source": [
    "#Exercise 1\n",
    "epsilon = 10**-15\n",
    "import math\n",
    "for i in range(1,10):\n",
    "    x = 1\n",
    "    a = i\n",
    "    while True:\n",
    "        #print(x)\n",
    "        y = (x + a/x) / 2\n",
    "        #if y == x:\n",
    "        if abs(y-x) < epsilon: #epsilon is a very very small number at 10^-16... basically we're just saying good enough\n",
    "            break\n",
    "        x = y\n",
    "    print(a, y, math.sqrt(a), math.sqrt(a)-y)\n",
    "    \n",
    "    "
   ]
  },
  {
   "cell_type": "raw",
   "metadata": {},
   "source": [
    "Exercise 2  \n",
    "The built-in function eval takes a string and evaluates it using the Python interpreter. For example:\n",
    ">>> eval('1 + 2 * 3')\n",
    "7\n",
    ">>> import math\n",
    ">>> eval('math.sqrt(5)')\n",
    "2.2360679774997898\n",
    ">>> eval('type(math.pi)')\n",
    "<class 'float'>\n",
    "Write a function called eval_loop that iteratively prompts the user, takes the resulting input and evaluates it using eval, and prints the result.\n",
    "It should continue until the user enters 'done', and then return the value of the last expression it evaluated."
   ]
  },
  {
   "cell_type": "code",
   "execution_count": 5,
   "metadata": {},
   "outputs": [
    {
     "name": "stdout",
     "output_type": "stream",
     "text": [
      ">>> print('hello')\n",
      "hello\n",
      "None\n",
      ">>> 2 + 2\n",
      "4\n",
      ">>> done\n"
     ]
    }
   ],
   "source": [
    "# Ex 2\n",
    "\n",
    "def eval_loop():\n",
    "    while True:\n",
    "        user_input = input(\">>> \")\n",
    "        if user_input == 'done':\n",
    "            break\n",
    "        print(eval(user_input))\n",
    "\n",
    "eval_loop()"
   ]
  },
  {
   "attachments": {
    "Screen%20Shot%202020-11-13%20at%201.13.48%20PM.png": {
     "image/png": "[encoded data removed]"
    }
   },
   "cell_type": "markdown",
   "metadata": {},
   "source": [
    "![Screen%20Shot%202020-11-13%20at%201.13.48%20PM.png](attachment:Screen%20Shot%202020-11-13%20at%201.13.48%20PM.png)"
   ]
  },
  {
   "cell_type": "code",
   "execution_count": 3,
   "metadata": {},
   "outputs": [
    {
     "data": {
      "text/plain": [
       "3.141592653589793"
      ]
     },
     "execution_count": 3,
     "metadata": {},
     "output_type": "execute_result"
    }
   ],
   "source": [
    "#Ex 3\n",
    "\n",
    "import math\n",
    "\n",
    "def summand(k):\n",
    "    return((math.factorial(4*k)*(1103+26390*k))/((math.factorial(k))**4 *396**(4*k)))\n",
    "\n",
    "threshold = 10**(-15)\n",
    "\n",
    "def estimate_pi():\n",
    "    '''Uses Ramanujan approximation for 1/pi to approximate pi to 10**-15 precision'''\n",
    "    total = 0\n",
    "    k = 0\n",
    "    while True:\n",
    "        new_term = summand(k)\n",
    "        total += new_term\n",
    "        if new_term < threshold:\n",
    "            break\n",
    "        k += 1\n",
    "    total = 1/(2*math.sqrt(2)/9801 * total)\n",
    "    return(total)\n",
    "\n",
    "estimate_pi()"
   ]
  },
  {
   "cell_type": "code",
   "execution_count": 2,
   "metadata": {},
   "outputs": [
    {
     "data": {
      "text/plain": [
       "3.141592653589793"
      ]
     },
     "execution_count": 2,
     "metadata": {},
     "output_type": "execute_result"
    }
   ],
   "source": [
    "import math\n",
    "\n",
    "math.pi"
   ]
  },
  {
   "cell_type": "code",
   "execution_count": null,
   "metadata": {},
   "outputs": [],
   "source": [
    "x = 103\n",
    "while x>1 :\n",
    "    if x % 2 == 0:\n",
    "        x = int(x/2)\n",
    "    else:\n",
    "        x = 3*x + 1\n",
    "    print(x)"
   ]
  }
 ],
 "metadata": {
  "kernelspec": {
   "display_name": "Python 3 (ipykernel)",
   "language": "python",
   "name": "python3"
  },
  "language_info": {
   "codemirror_mode": {
    "name": "ipython",
    "version": 3
   },
   "file_extension": ".py",
   "mimetype": "text/x-python",
   "name": "python",
   "nbconvert_exporter": "python",
   "pygments_lexer": "ipython3",
   "version": "3.9.7"
  }
 },
 "nbformat": 4,
 "nbformat_minor": 4
}
